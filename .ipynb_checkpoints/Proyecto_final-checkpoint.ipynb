{
 "cells": [
  {
   "cell_type": "markdown",
   "id": "4ad5ab57-0fb7-4c1a-bae8-64d441e60d91",
   "metadata": {},
   "source": [
    "# Algoritmos de optimización - Seminario\n",
    "\n",
    "\n",
    "Nombre y Apellidos: <b>Brayan Sebastian Salas Rico</b>\n",
    "\n",
    "\n",
    "Url: https://github.com/BryanSalasRico/AlgoritmosProg-Seminario.git\n",
    "\n",
    "Problema:\n",
    "\n",
    "\n",
    "- 1. <b> Sesiones de doblaje </b>\n",
    "\n",
    "- 2. Organizar los horarios de partidos de La Liga\n",
    "\n",
    "- 3. Combinar cifras y operaciones\n",
    "\n",
    "Descripción del problema:\n",
    "\n",
    "Se precisa coordinar el doblaje de una película. Los actores del doblaje deben coincidir en las tomas en las que sus personajes aparecen juntos en las diferentes tomas. Los actores de doblaje cobran todos la misma cantidad por cada día que deben desplazarse hasta el estudio de grabación independientemente del número de tomas que se graben. No es posible grabar más de 6 tomas por día. El objetivo es planificar las sesiones por día de manera que el gasto por los servicios de los actores de doblaje sea el menor posible. Los datos son:\n",
    "\n",
    "Numero de actores= 10\n",
    "\n",
    "Numero de tomas = 30\n",
    "\n",
    "1 indica que el actor participa en la toma, 0 en caso contrario\n"
   ]
  },
  {
   "cell_type": "markdown",
   "id": "30ecd615-a5ae-40a0-afee-be2e97cc5a71",
   "metadata": {},
   "source": [
    "<img src=\"img/tabla_problema.png\" width=\"600\">"
   ]
  },
  {
   "cell_type": "markdown",
   "id": "ec6b0829-f321-44c1-950c-9a653aeab023",
   "metadata": {
    "jp-MarkdownHeadingCollapsed": true
   },
   "source": [
    "### <b style=\"color:#ff8704\">NOTA:</b>\n",
    "\n",
    "<b> En este documento encontrara las respuestas a las preguntas puntuales, y las respectivas explicaciones tambien puntuales. Sin embargo por favor tenga en cuenta el documento \"Explicacion_Detalle.docx\" en esta misma carpeta, pues ahi se encuentra toda la logica que tuve para llegar a las conclusiones aqui mostradas y como se llevaron a cabo paso a paso. </b>"
   ]
  },
  {
   "cell_type": "markdown",
   "id": "8a1fe77f-a4e3-4fa0-945b-c46b89f9fd79",
   "metadata": {
    "jp-MarkdownHeadingCollapsed": true
   },
   "source": [
    "### <b style=\"color:#00105e\">(*)¿Cuantas posibilidades hay sin tener en cuenta las restricciones?</b>"
   ]
  },
  {
   "cell_type": "markdown",
   "id": "07832607-4873-48a5-a013-5584f9009c63",
   "metadata": {},
   "source": [
    "### <b style=\"color:#00105e\">¿Cuantas posibilidades hay teniendo en cuenta todas las restricciones?</b>"
   ]
  },
  {
   "cell_type": "markdown",
   "id": "804f3a45-4442-4bdc-b55b-17e5ccf5d542",
   "metadata": {},
   "source": [
    "### <b style=\"color:#00105e\">(*) ¿Cual es la estructura de datos que mejor se adapta al problema? Argumentalo.(Es posible que hayas elegido una al principio y veas la necesidad de cambiar, argumentalo)</b>"
   ]
  },
  {
   "cell_type": "markdown",
   "id": "b5513946-f3c2-4959-ac18-04b7fb41762d",
   "metadata": {},
   "source": [
    "### <b style=\"color:#00105e\">(*)¿Cual es la función objetivo?</b>"
   ]
  },
  {
   "cell_type": "markdown",
   "id": "ccaa9fd1-9e71-451d-a787-582a90b29966",
   "metadata": {},
   "source": [
    "<img src=\"img/funcion_objetivo_general.png\" width=\"200\">\n",
    "\n",
    "\n",
    "Entendiendo que, lo que buscamos es minimizar la suma total de todas las combinaciones actor-día en las que el actor se presente a grabar.\n",
    "\n",
    "<b style=\"color:#006aff\">a</b>: Es cada actor iniciando desde el 1.\n",
    "\n",
    "<b style=\"color:#006aff\">A</b>: Es la cantidad máxima de actores.\n",
    "\n",
    "<b style=\"color:#006aff\">d</b>: cada uno de los días iniciando desde 1.\n",
    "\n",
    "<b style=\"color:#006aff\">D</b>: el total de días de grabación, por lo general suelen ser menos que las tomas, sin embargo, entendiendo que podría ser una toma por día, la cantidad máxima de dias va a ser igual a la cantidad máxima de tomas (D = T).\n",
    "\n",
    "<b style=\"color:#006aff\">y</b>: Es una variable binaria, que indica si el actor a asiste el día d.\n",
    "\n",
    "<b>La funcion objetivo para el ejemplo puntual seria:</b>\n",
    "\n",
    "<img src=\"img/funcion_objetivo_problema.png\" width=\"450\">"
   ]
  },
  {
   "cell_type": "markdown",
   "id": "3a9c5cf4-1001-4015-9b9a-29812f3d924f",
   "metadata": {},
   "source": [
    "### <b style=\"color:#00105e\">(*)¿Es un problema de maximización o minimización? </b>"
   ]
  },
  {
   "cell_type": "markdown",
   "id": "492c7ab1-71dd-4026-ab34-c89d595d7be0",
   "metadata": {},
   "source": [
    "<b style=\"color:#006aff\">Minimizacion</b> teniendo en cuenta que lo que se busca es la reduccion de dias que un actor debe ir al set de grabacion y reduciendo asi tambien el costo total de la produccion."
   ]
  },
  {
   "cell_type": "markdown",
   "id": "e7073589-2162-4e88-b415-b11179d8249f",
   "metadata": {},
   "source": [
    "### <b style=\"color:#00105e\">Diseña un algoritmo para resolver el problema por fuerza bruta</b>"
   ]
  },
  {
   "cell_type": "markdown",
   "id": "1026373e-971b-4672-9485-fd0baf57cf3a",
   "metadata": {},
   "source": [
    "### <b style=\"color:#00105e\">Calcula la complejidad del algoritmo por fuerza bruta</b>"
   ]
  },
  {
   "cell_type": "markdown",
   "id": "713c53b9-8064-4345-804f-a5806cd83dbd",
   "metadata": {},
   "source": [
    "### <b style=\"color:#00105e\">(*)Diseña un algoritmo que mejore la complejidad del algortimo por fuerza bruta. Argumenta porque crees que mejora el algoritmo por fuerza bruta</b>"
   ]
  },
  {
   "cell_type": "markdown",
   "id": "b5abef73-50ed-4d4c-ab39-2a782e3fa2c2",
   "metadata": {},
   "source": [
    "### <b style=\"color:#00105e\">(*)Calcula la complejidad del algoritmo</b>"
   ]
  },
  {
   "cell_type": "markdown",
   "id": "0333c04d-5340-4dd4-bd38-f2bde944ce32",
   "metadata": {},
   "source": [
    "### <b style=\"color:#00105e\">Según el problema (y tenga sentido), diseña un juego de datos de entrada aleatorios</b>"
   ]
  },
  {
   "cell_type": "markdown",
   "id": "787d09d4-740a-4286-9815-1098163e589b",
   "metadata": {},
   "source": [
    "### <b style=\"color:#00105e\">Aplica el algoritmo al juego de datos generado</b>"
   ]
  },
  {
   "cell_type": "markdown",
   "id": "ec8c5190-0950-4e78-904e-2cd43d6af9c5",
   "metadata": {},
   "source": [
    "### <b style=\"color:#00105e\">Enumera las referencias que has utilizado(si ha sido necesario) para llevar a cabo el trabajo</b>"
   ]
  },
  {
   "cell_type": "markdown",
   "id": "701aafc0-d9e4-47e6-b507-1f9f8b8b99e8",
   "metadata": {},
   "source": [
    "### <b style=\"color:#00105e\">Describe brevemente las lineas de como crees que es posible avanzar en el estudio del problema. Ten en cuenta incluso posibles variaciones del problema y/o variaciones al alza del tamaño</b>"
   ]
  }
 ],
 "metadata": {
  "kernelspec": {
   "display_name": "Python 3 (ipykernel)",
   "language": "python",
   "name": "python3"
  },
  "language_info": {
   "codemirror_mode": {
    "name": "ipython",
    "version": 3
   },
   "file_extension": ".py",
   "mimetype": "text/x-python",
   "name": "python",
   "nbconvert_exporter": "python",
   "pygments_lexer": "ipython3",
   "version": "3.10.8"
  }
 },
 "nbformat": 4,
 "nbformat_minor": 5
}
